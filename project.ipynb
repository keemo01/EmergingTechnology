{
 "cells": [
  {
   "cell_type": "markdown",
   "metadata": {},
   "source": [
    "# Deutsch's Algorithm: A Quantum Computing Marvel\n",
    "\n",
    "Presented by Akeem Jokosenumi Student ID: G00366442"
   ]
  },
  {
   "cell_type": "markdown",
   "metadata": {},
   "source": [
    "## What is the Deutsch's Algorithm\n",
    "One of the early quantum algorithms, Deutsch's Algorithm was created to effectively tackle a particular problem using quantum processing. It solves the so-called Deutsch problem, which can be summed up as follows:  Given a two-input boolean function \n",
    "f\n",
    ":\n",
    "{\n",
    "0\n",
    ",\n",
    "1\n",
    "}\n",
    "→\n",
    "{\n",
    "0\n",
    ",\n",
    "1\n",
    "}\n",
    "f:{0,1}→{0,1}, determine whether \n",
    "f\n",
    "f is a constant function (always returning 0 or always returning 1) or a balanced function (returning 0 for one input and 1 for the other)"
   ]
  }
 ],
 "metadata": {
  "kernelspec": {
   "display_name": "Python 3",
   "language": "python",
   "name": "python3"
  },
  "language_info": {
   "codemirror_mode": {
    "name": "ipython",
    "version": 3
   },
   "file_extension": ".py",
   "mimetype": "text/x-python",
   "name": "python",
   "nbconvert_exporter": "python",
   "pygments_lexer": "ipython3",
   "version": "3.11.5"
  },
  "orig_nbformat": 4
 },
 "nbformat": 4,
 "nbformat_minor": 2
}
